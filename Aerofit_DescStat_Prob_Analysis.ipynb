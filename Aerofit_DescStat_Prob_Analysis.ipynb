{
 "cells": [
  {
   "cell_type": "markdown",
   "id": "543f4834",
   "metadata": {},
   "source": [
    "About Aerofit\n",
    "\n",
    "Aerofit is a leading brand in the field of fitness equipment. Aerofit provides a product range including machines such as treadmills, exercise bikes, gym equipment, and fitness accessories to cater to the needs of all categories of people."
   ]
  },
  {
   "cell_type": "markdown",
   "id": "3ee50538",
   "metadata": {},
   "source": [
    "Business Problem\n",
    "\n",
    "The market research team at AeroFit wants to identify the characteristics of the target audience for each type of treadmill offered by the company, to provide a better recommendation of the treadmills to the new customers. The team decides to investigate whether there are differences across the product with respect to customer characteristics.\n",
    "\n",
    "Perform descriptive analytics to create a customer profile for each AeroFit treadmill product by developing appropriate tables and charts.\n",
    "For each AeroFit treadmill product, construct two-way contingency tables and compute all conditional and marginal probabilities along with their insights/impact on the business."
   ]
  },
  {
   "cell_type": "markdown",
   "id": "23d7d8f8",
   "metadata": {},
   "source": [
    "Dataset\n",
    "\n",
    "The company collected the data on individuals who purchased a treadmill from the AeroFit stores during the prior three months. The dataset has the following features:\n",
    "\n",
    "Dataset link: Aerofit_treadmill.csv\n",
    "\n",
    "Product Purchased:\tKP281, KP481, or KP781\n",
    "Age:\tIn years\n",
    "Gender:\tMale/Female\n",
    "Education:\tIn years\n",
    "MaritalStatus:\tSingle or partnered\n",
    "Usage:\tThe average number of times the customer plans to use the treadmill each week.\n",
    "Income:\tAnnual income (in $)\n",
    "Fitness:\tSelf-rated fitness on a 1-to-5 scale, where 1 is the poor shape and 5 is the excellent shape.\n",
    "Miles:\tThe average number of miles the customer expects to walk/run each week"
   ]
  },
  {
   "cell_type": "markdown",
   "id": "adeaf874",
   "metadata": {},
   "source": [
    "Product Portfolio:\n",
    "\n",
    "The KP281 is an entry-level treadmill that sells for $1,500.\n",
    "The KP481 is for mid-level runners that sell for $1,750.\n",
    "The KP781 treadmill is having advanced features that sell for $2,500."
   ]
  },
  {
   "cell_type": "markdown",
   "id": "eee264d2",
   "metadata": {},
   "source": [
    "What good looks like?\n",
    "\n",
    "1. Import the dataset and do usual data analysis steps like checking the structure & characteristics of the dataset\n",
    "2. Detect Outliers (using boxplot, “describe” method by checking the difference between mean and median)\n",
    "3. Check if features like marital status, age have any effect on the product purchased (using countplot, histplots, boxplots etc)\n",
    "4. Representing the marginal probability like - what percent of customers have purchased KP281, KP481, or KP781 in a table (can use pandas.crosstab here)\n",
    "5. Check correlation among different factors using heat maps or pair plots.\n",
    "6. With all the above steps you can answer questions like: What is the probability of a male customer buying a KP781 treadmill?\n",
    "7. Customer Profiling - Categorization of users.\n",
    "8. Probability- marginal, conditional probability.\n",
    "9. Some recommendations and actionable insights, based on the inferences.\n",
    "Later on, we will see more ways to do “customer segmentation”, but this case study in itself is relevant in some real-world scenarios."
   ]
  },
  {
   "cell_type": "markdown",
   "id": "997dd6a6",
   "metadata": {},
   "source": [
    "Evaluation Criteria\n",
    "\n",
    "1. Defining Problem Statement and Analysing basic metrics (10 Points)\n",
    "    - Observations on shape of data, data types of all the attributes, conversion of categorical attributes to 'category' (If required), statistical summary\n",
    "2. Non-Graphical Analysis: Value counts and unique attributes ​​(10 Points)\n",
    "3. Visual Analysis - Univariate & Bivariate (30 Points)\n",
    "    - For continuous variable(s): Distplot, countplot, histogram for univariate analysis (10 Points)\n",
    "    - For categorical variable(s): Boxplot (10 Points)\n",
    "    - For correlation: Heatmaps, Pairplots(10 Points)\n",
    "4. Missing Value & Outlier Detection (10 Points)\n",
    "5. Business Insights based on Non-Graphical and Visual Analysis (10 Points)\n",
    "    - Comments on the range of attributes\n",
    "    - Comments on the distribution of the variables and relationship between them\n",
    "    - Comments for each univariate and bivariate plot\n",
    "6. Recommendations (10 Points) - Actionable items for business. No technical jargon. No complications. Simple action items that everyone can understand"
   ]
  },
  {
   "cell_type": "markdown",
   "id": "b0e179ed",
   "metadata": {},
   "source": [
    "# Aerofit - Descriptive Statistics & Probability"
   ]
  },
  {
   "cell_type": "markdown",
   "id": "c3198d82",
   "metadata": {},
   "source": [
    "**<u>About Aerofit</u>**\n",
    "\n",
    "*Aerofit is a leading brand in the field of **fitness equipment**. Aerofit provides a product range including machines such as treadmills, exercise bikes, gym equipment, and fitness accessories to cater to the needs of all categories of people.*"
   ]
  },
  {
   "cell_type": "markdown",
   "id": "38bbd816",
   "metadata": {},
   "source": [
    "**<u>Business Problem</u>**\n",
    "\n",
    "The market research team at AeroFit wants to identify the *characteristics of the target audience for each type of treadmill* offered by the company, to provide a better recommendation of the treadmills to the new customers. The team decides to investigate *whether there are differences across the product with respect to customer characteristics.*\n",
    "\n",
    "Perform descriptive analytics to create a *customer profile for each AeroFit treadmill product* by developing appropriate tables and charts.\n",
    "For each AeroFit treadmill product, construct two-way contingency tables and compute all conditional and marginal probabilities along with their insights/impact on the business."
   ]
  },
  {
   "cell_type": "code",
   "execution_count": 24,
   "id": "d76c2d45",
   "metadata": {},
   "outputs": [],
   "source": [
    "# Lets import necessary libraries\n",
    "\n",
    "import numpy as np\n",
    "import pandas as pd\n",
    "import matplotlib.pyplot as plt\n",
    "import seaborn as sns\n",
    "\n",
    "\n",
    "# Use this code to style the plots - globally\n",
    "plt.style.use('ggplot')\n",
    "# If you want to know what all styles are available use plt.style.available\n",
    "\n",
    "\n",
    "# Use this code to ignore any unnecessary filter warnings\n",
    "import warnings\n",
    "warnings.filterwarnings('ignore')"
   ]
  },
  {
   "cell_type": "code",
   "execution_count": 2,
   "id": "e0942d71",
   "metadata": {},
   "outputs": [],
   "source": [
    "# Lets import the dataset\n",
    "\n",
    "df = pd.read_csv(\"aerofit_treadmill.csv\")"
   ]
  },
  {
   "cell_type": "markdown",
   "id": "2c55e77e",
   "metadata": {},
   "source": [
    "## 1. Defining Problem Statement and Analysing basic metrics"
   ]
  },
  {
   "cell_type": "markdown",
   "id": "4e29c64b",
   "metadata": {},
   "source": [
    "__Problem Statement__\n",
    "- The market research team at AeroFit faces the challenge of insufficiently understanding the distinct characteristics of the target audience for each of the company's treadmill products. \n",
    "- In order to enhance the guidance provided to new customers, there is a need to investigate potential differences in customer traits across AeroFit treadmill products. \n",
    "- The lack of a comprehensive customer profile for each treadmill hinders the team's ability to make informed recommendations. \n",
    "- Thus, the problem at hand is to conduct a thorough descriptive analytics, utilizing appropriate tables and charts, to develop a detailed customer profile for each AeroFit treadmill. \n",
    "- Additionally, constructing two-way contingency tables and computing conditional and marginal probabilities is crucial to uncover insights that can significantly impact business decisions."
   ]
  },
  {
   "cell_type": "code",
   "execution_count": 3,
   "id": "1b208dbf",
   "metadata": {},
   "outputs": [
    {
     "data": {
      "text/html": [
       "<div>\n",
       "<style scoped>\n",
       "    .dataframe tbody tr th:only-of-type {\n",
       "        vertical-align: middle;\n",
       "    }\n",
       "\n",
       "    .dataframe tbody tr th {\n",
       "        vertical-align: top;\n",
       "    }\n",
       "\n",
       "    .dataframe thead th {\n",
       "        text-align: right;\n",
       "    }\n",
       "</style>\n",
       "<table border=\"1\" class=\"dataframe\">\n",
       "  <thead>\n",
       "    <tr style=\"text-align: right;\">\n",
       "      <th></th>\n",
       "      <th>Product</th>\n",
       "      <th>Age</th>\n",
       "      <th>Gender</th>\n",
       "      <th>Education</th>\n",
       "      <th>MaritalStatus</th>\n",
       "      <th>Usage</th>\n",
       "      <th>Fitness</th>\n",
       "      <th>Income</th>\n",
       "      <th>Miles</th>\n",
       "    </tr>\n",
       "  </thead>\n",
       "  <tbody>\n",
       "    <tr>\n",
       "      <th>0</th>\n",
       "      <td>KP281</td>\n",
       "      <td>18</td>\n",
       "      <td>Male</td>\n",
       "      <td>14</td>\n",
       "      <td>Single</td>\n",
       "      <td>3</td>\n",
       "      <td>4</td>\n",
       "      <td>29562</td>\n",
       "      <td>112</td>\n",
       "    </tr>\n",
       "    <tr>\n",
       "      <th>1</th>\n",
       "      <td>KP281</td>\n",
       "      <td>19</td>\n",
       "      <td>Male</td>\n",
       "      <td>15</td>\n",
       "      <td>Single</td>\n",
       "      <td>2</td>\n",
       "      <td>3</td>\n",
       "      <td>31836</td>\n",
       "      <td>75</td>\n",
       "    </tr>\n",
       "    <tr>\n",
       "      <th>2</th>\n",
       "      <td>KP281</td>\n",
       "      <td>19</td>\n",
       "      <td>Female</td>\n",
       "      <td>14</td>\n",
       "      <td>Partnered</td>\n",
       "      <td>4</td>\n",
       "      <td>3</td>\n",
       "      <td>30699</td>\n",
       "      <td>66</td>\n",
       "    </tr>\n",
       "    <tr>\n",
       "      <th>3</th>\n",
       "      <td>KP281</td>\n",
       "      <td>19</td>\n",
       "      <td>Male</td>\n",
       "      <td>12</td>\n",
       "      <td>Single</td>\n",
       "      <td>3</td>\n",
       "      <td>3</td>\n",
       "      <td>32973</td>\n",
       "      <td>85</td>\n",
       "    </tr>\n",
       "    <tr>\n",
       "      <th>4</th>\n",
       "      <td>KP281</td>\n",
       "      <td>20</td>\n",
       "      <td>Male</td>\n",
       "      <td>13</td>\n",
       "      <td>Partnered</td>\n",
       "      <td>4</td>\n",
       "      <td>2</td>\n",
       "      <td>35247</td>\n",
       "      <td>47</td>\n",
       "    </tr>\n",
       "  </tbody>\n",
       "</table>\n",
       "</div>"
      ],
      "text/plain": [
       "  Product  Age  Gender  Education MaritalStatus  Usage  Fitness  Income  Miles\n",
       "0   KP281   18    Male         14        Single      3        4   29562    112\n",
       "1   KP281   19    Male         15        Single      2        3   31836     75\n",
       "2   KP281   19  Female         14     Partnered      4        3   30699     66\n",
       "3   KP281   19    Male         12        Single      3        3   32973     85\n",
       "4   KP281   20    Male         13     Partnered      4        2   35247     47"
      ]
     },
     "execution_count": 3,
     "metadata": {},
     "output_type": "execute_result"
    }
   ],
   "source": [
    "# Lets look at the head of the data\n",
    "\n",
    "df.head()"
   ]
  },
  {
   "cell_type": "markdown",
   "id": "5af2c0e2",
   "metadata": {},
   "source": [
    "__About Dataset__\n",
    "\n",
    "*The company collected the data on individuals who purchased a treadmill from the AeroFit stores during the prior three months. The dataset has the following features:*\n",
    "\n",
    "- Product Purchased:\tKP281, KP481, or KP781\n",
    "- Age:\tIn years\n",
    "- Gender:\tMale/Female\n",
    "- Education:\tIn years\n",
    "- MaritalStatus:\tSingle or partnered\n",
    "- Usage:\tThe average number of times the customer plans to use the treadmill each week.\n",
    "- Income:\tAnnual income (in \\$)\n",
    "- Fitness:\tSelf-rated fitness on a 1-to-5 scale, where 1 is the poor shape and 5 is the excellent shape.\n",
    "- Miles:\tThe average number of miles the customer expects to walk/run each week\n",
    "\n",
    "__Product Portfolio__\n",
    "\n",
    "- The KP281 is an entry-level treadmill that sells for \\$1,500.\n",
    "- The KP481 is for mid-level runners that sell for \\$1,750.\n",
    "- The KP781 treadmill is having advanced features that sell for \\$2,500."
   ]
  },
  {
   "cell_type": "code",
   "execution_count": 4,
   "id": "43b9949f",
   "metadata": {},
   "outputs": [
    {
     "data": {
      "text/plain": [
       "(180, 9)"
      ]
     },
     "execution_count": 4,
     "metadata": {},
     "output_type": "execute_result"
    }
   ],
   "source": [
    "# Lets look at the shape of the data\n",
    "\n",
    "df.shape"
   ]
  },
  {
   "cell_type": "code",
   "execution_count": 5,
   "id": "b52ef625",
   "metadata": {},
   "outputs": [
    {
     "name": "stdout",
     "output_type": "stream",
     "text": [
      "<class 'pandas.core.frame.DataFrame'>\n",
      "RangeIndex: 180 entries, 0 to 179\n",
      "Data columns (total 9 columns):\n",
      " #   Column         Non-Null Count  Dtype \n",
      "---  ------         --------------  ----- \n",
      " 0   Product        180 non-null    object\n",
      " 1   Age            180 non-null    int64 \n",
      " 2   Gender         180 non-null    object\n",
      " 3   Education      180 non-null    int64 \n",
      " 4   MaritalStatus  180 non-null    object\n",
      " 5   Usage          180 non-null    int64 \n",
      " 6   Fitness        180 non-null    int64 \n",
      " 7   Income         180 non-null    int64 \n",
      " 8   Miles          180 non-null    int64 \n",
      "dtypes: int64(6), object(3)\n",
      "memory usage: 12.8+ KB\n"
     ]
    }
   ],
   "source": [
    "# Lets look at the datatypes of columns\n",
    "\n",
    "df.info()"
   ]
  },
  {
   "cell_type": "markdown",
   "id": "6f5b9d71",
   "metadata": {},
   "source": [
    "> There is no need to convert any datatypes, because all the datatypes are relevant to the values"
   ]
  },
  {
   "cell_type": "code",
   "execution_count": 6,
   "id": "865fecd3",
   "metadata": {},
   "outputs": [
    {
     "data": {
      "text/html": [
       "<div>\n",
       "<style scoped>\n",
       "    .dataframe tbody tr th:only-of-type {\n",
       "        vertical-align: middle;\n",
       "    }\n",
       "\n",
       "    .dataframe tbody tr th {\n",
       "        vertical-align: top;\n",
       "    }\n",
       "\n",
       "    .dataframe thead th {\n",
       "        text-align: right;\n",
       "    }\n",
       "</style>\n",
       "<table border=\"1\" class=\"dataframe\">\n",
       "  <thead>\n",
       "    <tr style=\"text-align: right;\">\n",
       "      <th></th>\n",
       "      <th>Age</th>\n",
       "      <th>Education</th>\n",
       "      <th>Usage</th>\n",
       "      <th>Fitness</th>\n",
       "      <th>Income</th>\n",
       "      <th>Miles</th>\n",
       "    </tr>\n",
       "  </thead>\n",
       "  <tbody>\n",
       "    <tr>\n",
       "      <th>count</th>\n",
       "      <td>180.000000</td>\n",
       "      <td>180.000000</td>\n",
       "      <td>180.000000</td>\n",
       "      <td>180.000000</td>\n",
       "      <td>180.000000</td>\n",
       "      <td>180.000000</td>\n",
       "    </tr>\n",
       "    <tr>\n",
       "      <th>mean</th>\n",
       "      <td>28.788889</td>\n",
       "      <td>15.572222</td>\n",
       "      <td>3.455556</td>\n",
       "      <td>3.311111</td>\n",
       "      <td>53719.577778</td>\n",
       "      <td>103.194444</td>\n",
       "    </tr>\n",
       "    <tr>\n",
       "      <th>std</th>\n",
       "      <td>6.943498</td>\n",
       "      <td>1.617055</td>\n",
       "      <td>1.084797</td>\n",
       "      <td>0.958869</td>\n",
       "      <td>16506.684226</td>\n",
       "      <td>51.863605</td>\n",
       "    </tr>\n",
       "    <tr>\n",
       "      <th>min</th>\n",
       "      <td>18.000000</td>\n",
       "      <td>12.000000</td>\n",
       "      <td>2.000000</td>\n",
       "      <td>1.000000</td>\n",
       "      <td>29562.000000</td>\n",
       "      <td>21.000000</td>\n",
       "    </tr>\n",
       "    <tr>\n",
       "      <th>25%</th>\n",
       "      <td>24.000000</td>\n",
       "      <td>14.000000</td>\n",
       "      <td>3.000000</td>\n",
       "      <td>3.000000</td>\n",
       "      <td>44058.750000</td>\n",
       "      <td>66.000000</td>\n",
       "    </tr>\n",
       "    <tr>\n",
       "      <th>50%</th>\n",
       "      <td>26.000000</td>\n",
       "      <td>16.000000</td>\n",
       "      <td>3.000000</td>\n",
       "      <td>3.000000</td>\n",
       "      <td>50596.500000</td>\n",
       "      <td>94.000000</td>\n",
       "    </tr>\n",
       "    <tr>\n",
       "      <th>75%</th>\n",
       "      <td>33.000000</td>\n",
       "      <td>16.000000</td>\n",
       "      <td>4.000000</td>\n",
       "      <td>4.000000</td>\n",
       "      <td>58668.000000</td>\n",
       "      <td>114.750000</td>\n",
       "    </tr>\n",
       "    <tr>\n",
       "      <th>max</th>\n",
       "      <td>50.000000</td>\n",
       "      <td>21.000000</td>\n",
       "      <td>7.000000</td>\n",
       "      <td>5.000000</td>\n",
       "      <td>104581.000000</td>\n",
       "      <td>360.000000</td>\n",
       "    </tr>\n",
       "  </tbody>\n",
       "</table>\n",
       "</div>"
      ],
      "text/plain": [
       "              Age   Education       Usage     Fitness         Income  \\\n",
       "count  180.000000  180.000000  180.000000  180.000000     180.000000   \n",
       "mean    28.788889   15.572222    3.455556    3.311111   53719.577778   \n",
       "std      6.943498    1.617055    1.084797    0.958869   16506.684226   \n",
       "min     18.000000   12.000000    2.000000    1.000000   29562.000000   \n",
       "25%     24.000000   14.000000    3.000000    3.000000   44058.750000   \n",
       "50%     26.000000   16.000000    3.000000    3.000000   50596.500000   \n",
       "75%     33.000000   16.000000    4.000000    4.000000   58668.000000   \n",
       "max     50.000000   21.000000    7.000000    5.000000  104581.000000   \n",
       "\n",
       "            Miles  \n",
       "count  180.000000  \n",
       "mean   103.194444  \n",
       "std     51.863605  \n",
       "min     21.000000  \n",
       "25%     66.000000  \n",
       "50%     94.000000  \n",
       "75%    114.750000  \n",
       "max    360.000000  "
      ]
     },
     "execution_count": 6,
     "metadata": {},
     "output_type": "execute_result"
    }
   ],
   "source": [
    "# Lets look at the statistical summary\n",
    "\n",
    "# all numeric fields\n",
    "\n",
    "df.describe()"
   ]
  },
  {
   "cell_type": "code",
   "execution_count": 7,
   "id": "7b7db7f5",
   "metadata": {},
   "outputs": [
    {
     "data": {
      "text/html": [
       "<div>\n",
       "<style scoped>\n",
       "    .dataframe tbody tr th:only-of-type {\n",
       "        vertical-align: middle;\n",
       "    }\n",
       "\n",
       "    .dataframe tbody tr th {\n",
       "        vertical-align: top;\n",
       "    }\n",
       "\n",
       "    .dataframe thead th {\n",
       "        text-align: right;\n",
       "    }\n",
       "</style>\n",
       "<table border=\"1\" class=\"dataframe\">\n",
       "  <thead>\n",
       "    <tr style=\"text-align: right;\">\n",
       "      <th></th>\n",
       "      <th>Product</th>\n",
       "      <th>Gender</th>\n",
       "      <th>MaritalStatus</th>\n",
       "    </tr>\n",
       "  </thead>\n",
       "  <tbody>\n",
       "    <tr>\n",
       "      <th>count</th>\n",
       "      <td>180</td>\n",
       "      <td>180</td>\n",
       "      <td>180</td>\n",
       "    </tr>\n",
       "    <tr>\n",
       "      <th>unique</th>\n",
       "      <td>3</td>\n",
       "      <td>2</td>\n",
       "      <td>2</td>\n",
       "    </tr>\n",
       "    <tr>\n",
       "      <th>top</th>\n",
       "      <td>KP281</td>\n",
       "      <td>Male</td>\n",
       "      <td>Partnered</td>\n",
       "    </tr>\n",
       "    <tr>\n",
       "      <th>freq</th>\n",
       "      <td>80</td>\n",
       "      <td>104</td>\n",
       "      <td>107</td>\n",
       "    </tr>\n",
       "  </tbody>\n",
       "</table>\n",
       "</div>"
      ],
      "text/plain": [
       "       Product Gender MaritalStatus\n",
       "count      180    180           180\n",
       "unique       3      2             2\n",
       "top      KP281   Male     Partnered\n",
       "freq        80    104           107"
      ]
     },
     "execution_count": 7,
     "metadata": {},
     "output_type": "execute_result"
    }
   ],
   "source": [
    "# all non-numeric fields\n",
    "\n",
    "df.describe(include='O')"
   ]
  },
  {
   "cell_type": "markdown",
   "id": "974d4795",
   "metadata": {},
   "source": [
    "## 2. Non-Graphical Analysis: Value counts and unique attributes"
   ]
  },
  {
   "cell_type": "code",
   "execution_count": 8,
   "id": "359d9cff",
   "metadata": {},
   "outputs": [
    {
     "data": {
      "text/plain": [
       "Index(['Product', 'Age', 'Gender', 'Education', 'MaritalStatus', 'Usage',\n",
       "       'Fitness', 'Income', 'Miles'],\n",
       "      dtype='object')"
      ]
     },
     "execution_count": 8,
     "metadata": {},
     "output_type": "execute_result"
    }
   ],
   "source": [
    "df.columns"
   ]
  },
  {
   "cell_type": "markdown",
   "id": "47ff567c",
   "metadata": {},
   "source": [
    "#### Product"
   ]
  },
  {
   "cell_type": "code",
   "execution_count": 9,
   "id": "d8223cc2",
   "metadata": {},
   "outputs": [
    {
     "data": {
      "text/plain": [
       "KP281    80\n",
       "KP481    60\n",
       "KP781    40\n",
       "Name: Product, dtype: int64"
      ]
     },
     "execution_count": 9,
     "metadata": {},
     "output_type": "execute_result"
    }
   ],
   "source": [
    "df['Product'].value_counts()"
   ]
  },
  {
   "cell_type": "markdown",
   "id": "7da9e706",
   "metadata": {},
   "source": [
    "> __80__ products belong to KP281\n",
    ">\n",
    "> __60__ products belong to KP481\n",
    ">\n",
    "> __40__ products belong to KP781"
   ]
  },
  {
   "cell_type": "code",
   "execution_count": 10,
   "id": "c4bbe3d6",
   "metadata": {},
   "outputs": [
    {
     "data": {
      "text/plain": [
       "count       180\n",
       "unique        3\n",
       "top       KP281\n",
       "freq         80\n",
       "Name: Product, dtype: object"
      ]
     },
     "execution_count": 10,
     "metadata": {},
     "output_type": "execute_result"
    }
   ],
   "source": [
    "df['Product'].describe()"
   ]
  },
  {
   "cell_type": "markdown",
   "id": "f409861c",
   "metadata": {},
   "source": [
    "#### Age"
   ]
  },
  {
   "cell_type": "code",
   "execution_count": 11,
   "id": "f03bbc46",
   "metadata": {},
   "outputs": [
    {
     "data": {
      "text/plain": [
       "count    180.000000\n",
       "mean      28.788889\n",
       "std        6.943498\n",
       "min       18.000000\n",
       "25%       24.000000\n",
       "50%       26.000000\n",
       "75%       33.000000\n",
       "max       50.000000\n",
       "Name: Age, dtype: float64"
      ]
     },
     "execution_count": 11,
     "metadata": {},
     "output_type": "execute_result"
    }
   ],
   "source": [
    "df['Age'].describe()"
   ]
  },
  {
   "cell_type": "markdown",
   "id": "1add426e",
   "metadata": {},
   "source": [
    "> The dataset include people of age between __18 years old__ and __50 years old__\n",
    ">\n",
    "> Average age is __28.7__"
   ]
  },
  {
   "cell_type": "markdown",
   "id": "c7629043",
   "metadata": {},
   "source": [
    "#### Gender"
   ]
  },
  {
   "cell_type": "code",
   "execution_count": 12,
   "id": "8af8165d",
   "metadata": {},
   "outputs": [
    {
     "data": {
      "text/plain": [
       "Male      104\n",
       "Female     76\n",
       "Name: Gender, dtype: int64"
      ]
     },
     "execution_count": 12,
     "metadata": {},
     "output_type": "execute_result"
    }
   ],
   "source": [
    "df['Gender'].value_counts()"
   ]
  },
  {
   "cell_type": "code",
   "execution_count": 13,
   "id": "487f3607",
   "metadata": {},
   "outputs": [
    {
     "data": {
      "text/plain": [
       "Male      57.777778\n",
       "Female    42.222222\n",
       "Name: Gender, dtype: float64"
      ]
     },
     "execution_count": 13,
     "metadata": {},
     "output_type": "execute_result"
    }
   ],
   "source": [
    "df['Gender'].value_counts(normalize=True) *100"
   ]
  },
  {
   "cell_type": "markdown",
   "id": "a070e0a0",
   "metadata": {},
   "source": [
    "> __57.7%__ of people in the dataset are males and __42.2%__ are females."
   ]
  },
  {
   "cell_type": "markdown",
   "id": "6f5b4eb6",
   "metadata": {},
   "source": [
    "#### Education"
   ]
  },
  {
   "cell_type": "code",
   "execution_count": 14,
   "id": "bfb4f20c",
   "metadata": {},
   "outputs": [
    {
     "data": {
      "text/plain": [
       "count    180.000000\n",
       "mean      15.572222\n",
       "std        1.617055\n",
       "min       12.000000\n",
       "25%       14.000000\n",
       "50%       16.000000\n",
       "75%       16.000000\n",
       "max       21.000000\n",
       "Name: Education, dtype: float64"
      ]
     },
     "execution_count": 14,
     "metadata": {},
     "output_type": "execute_result"
    }
   ],
   "source": [
    "df['Education'].describe()"
   ]
  },
  {
   "cell_type": "markdown",
   "id": "d96e130b",
   "metadata": {},
   "source": [
    "> Everyone in the dataset has a min education of __12 years__\n",
    ">\n",
    "> Max education is __21 years__"
   ]
  },
  {
   "cell_type": "markdown",
   "id": "26498bbb",
   "metadata": {},
   "source": [
    "#### Marital Status"
   ]
  },
  {
   "cell_type": "code",
   "execution_count": 15,
   "id": "4fcebc27",
   "metadata": {},
   "outputs": [
    {
     "data": {
      "text/plain": [
       "Partnered    107\n",
       "Single        73\n",
       "Name: MaritalStatus, dtype: int64"
      ]
     },
     "execution_count": 15,
     "metadata": {},
     "output_type": "execute_result"
    }
   ],
   "source": [
    "df['MaritalStatus'].value_counts()"
   ]
  },
  {
   "cell_type": "code",
   "execution_count": 16,
   "id": "eb2ca115",
   "metadata": {},
   "outputs": [
    {
     "data": {
      "text/plain": [
       "Partnered    59.444444\n",
       "Single       40.555556\n",
       "Name: MaritalStatus, dtype: float64"
      ]
     },
     "execution_count": 16,
     "metadata": {},
     "output_type": "execute_result"
    }
   ],
   "source": [
    "df['MaritalStatus'].value_counts(normalize=True)*100"
   ]
  },
  {
   "cell_type": "markdown",
   "id": "1d77513f",
   "metadata": {},
   "source": [
    "> __59.4%__ of the people in the dataset are Partnered and __40.5%__ of people are Single"
   ]
  },
  {
   "cell_type": "markdown",
   "id": "b3cd739e",
   "metadata": {},
   "source": [
    "#### Usage"
   ]
  },
  {
   "cell_type": "code",
   "execution_count": 17,
   "id": "30e1d4ab",
   "metadata": {},
   "outputs": [
    {
     "data": {
      "text/plain": [
       "count    180.000000\n",
       "mean       3.455556\n",
       "std        1.084797\n",
       "min        2.000000\n",
       "25%        3.000000\n",
       "50%        3.000000\n",
       "75%        4.000000\n",
       "max        7.000000\n",
       "Name: Usage, dtype: float64"
      ]
     },
     "execution_count": 17,
     "metadata": {},
     "output_type": "execute_result"
    }
   ],
   "source": [
    "df['Usage'].describe()"
   ]
  },
  {
   "cell_type": "markdown",
   "id": "affb44b9",
   "metadata": {},
   "source": [
    "> Those who bought the treadmill said that they would use it on average __3 times__ a week"
   ]
  },
  {
   "cell_type": "markdown",
   "id": "16b3a068",
   "metadata": {},
   "source": [
    "#### Fitness"
   ]
  },
  {
   "cell_type": "code",
   "execution_count": 19,
   "id": "435b11ee",
   "metadata": {},
   "outputs": [
    {
     "data": {
      "text/plain": [
       "count    180.000000\n",
       "mean       3.311111\n",
       "std        0.958869\n",
       "min        1.000000\n",
       "25%        3.000000\n",
       "50%        3.000000\n",
       "75%        4.000000\n",
       "max        5.000000\n",
       "Name: Fitness, dtype: float64"
      ]
     },
     "execution_count": 19,
     "metadata": {},
     "output_type": "execute_result"
    }
   ],
   "source": [
    "df['Fitness'].describe()"
   ]
  },
  {
   "cell_type": "markdown",
   "id": "31144bf0",
   "metadata": {},
   "source": [
    "> On a scale of 1 to 5, people who bought the treadmill said their fitness level is on average is at __3__\n",
    ">\n",
    "> Minimum is __1/bad shape__ and max is __5/very good shape__"
   ]
  },
  {
   "cell_type": "markdown",
   "id": "68b42f52",
   "metadata": {},
   "source": [
    "#### Income"
   ]
  },
  {
   "cell_type": "code",
   "execution_count": 20,
   "id": "b4d23389",
   "metadata": {},
   "outputs": [
    {
     "data": {
      "text/plain": [
       "count       180.000000\n",
       "mean      53719.577778\n",
       "std       16506.684226\n",
       "min       29562.000000\n",
       "25%       44058.750000\n",
       "50%       50596.500000\n",
       "75%       58668.000000\n",
       "max      104581.000000\n",
       "Name: Income, dtype: float64"
      ]
     },
     "execution_count": 20,
     "metadata": {},
     "output_type": "execute_result"
    }
   ],
   "source": [
    "df['Income'].describe()"
   ]
  },
  {
   "cell_type": "markdown",
   "id": "f220602e",
   "metadata": {},
   "source": [
    "> Annual income of the people who bought the treadmill ranges from __\\$29k per year__ to __\\$104k per year__"
   ]
  },
  {
   "cell_type": "markdown",
   "id": "750715f7",
   "metadata": {},
   "source": [
    "#### Miles"
   ]
  },
  {
   "cell_type": "code",
   "execution_count": 21,
   "id": "2133babb",
   "metadata": {},
   "outputs": [
    {
     "data": {
      "text/plain": [
       "count    180.000000\n",
       "mean     103.194444\n",
       "std       51.863605\n",
       "min       21.000000\n",
       "25%       66.000000\n",
       "50%       94.000000\n",
       "75%      114.750000\n",
       "max      360.000000\n",
       "Name: Miles, dtype: float64"
      ]
     },
     "execution_count": 21,
     "metadata": {},
     "output_type": "execute_result"
    }
   ],
   "source": [
    "df['Miles'].describe()"
   ]
  },
  {
   "cell_type": "markdown",
   "id": "7e9a9cd1",
   "metadata": {},
   "source": [
    "> On average people expects to walk/run __103.19 miles__ per week"
   ]
  },
  {
   "cell_type": "markdown",
   "id": "6200388f",
   "metadata": {},
   "source": [
    "## 3. Visual Analysis - Univariate & Bivariate"
   ]
  },
  {
   "cell_type": "code",
   "execution_count": 18,
   "id": "be7e1f2f",
   "metadata": {},
   "outputs": [
    {
     "data": {
      "text/plain": [
       "Index(['Product', 'Age', 'Gender', 'Education', 'MaritalStatus', 'Usage',\n",
       "       'Fitness', 'Income', 'Miles'],\n",
       "      dtype='object')"
      ]
     },
     "execution_count": 18,
     "metadata": {},
     "output_type": "execute_result"
    }
   ],
   "source": [
    "df.columns"
   ]
  },
  {
   "cell_type": "markdown",
   "id": "ec613a1b",
   "metadata": {},
   "source": [
    "### What is the frequency of Products sold?"
   ]
  },
  {
   "cell_type": "code",
   "execution_count": 27,
   "id": "61c86ddd",
   "metadata": {},
   "outputs": [
    {
     "data": {
      "image/png": "[encoded data removed]",
      "text/plain": [
       "<Figure size 648x432 with 1 Axes>"
      ]
     },
     "metadata": {},
     "output_type": "display_data"
    }
   ],
   "source": [
    "with plt.style.context('seaborn-pastel'):\n",
    "    plt.figure(figsize=(9,6))\n",
    "    ax = sns.countplot(df['Product'])\n",
    "    \n",
    "    bias = 0.1\n",
    "    ax.annotate(ax.patches[0].get_height(), (0-bias,ax.patches[0].get_height()),\n",
    "                bbox=dict(boxstyle=\"round\", fc=\"none\", ec=\"gray\"))\n",
    "    ax.annotate(ax.patches[1].get_height(), (1-bias, ax.patches[1].get_height()),\n",
    "               bbox=dict(boxstyle=\"round\", fc=\"none\", ec=\"gray\"))\n",
    "    ax.annotate(ax.patches[2].get_height(), (2-bias, ax.patches[2].get_height()),\n",
    "               bbox=dict(boxstyle=\"round\", fc=\"none\", ec=\"gray\"))\n",
    "    plt.title('Barplot of Product')\n",
    "    plt.xlabel('Product')\n",
    "    plt.ylabel('Frequency')"
   ]
  },
  {
   "cell_type": "markdown",
   "id": "9669b30c",
   "metadata": {},
   "source": [
    "> From the graph we can see that the most sold product is __KP281__ (80 units)\n",
    ">\n",
    "> Next in line is __KP481__ (60 units)\n",
    ">\n",
    "> And the lowest sold product is __KP781__ (40units)"
   ]
  },
  {
   "cell_type": "code",
   "execution_count": null,
   "id": "7828ec10",
   "metadata": {},
   "outputs": [],
   "source": []
  }
 ],
 "metadata": {
  "kernelspec": {
   "display_name": "Python 3",
   "language": "python",
   "name": "python3"
  },
  "language_info": {
   "codemirror_mode": {
    "name": "ipython",
    "version": 3
   },
   "file_extension": ".py",
   "mimetype": "text/x-python",
   "name": "python",
   "nbconvert_exporter": "python",
   "pygments_lexer": "ipython3",
   "version": "3.8.8"
  }
 },
 "nbformat": 4,
 "nbformat_minor": 5
}
